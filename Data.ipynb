{
    "cells": [
        {
            "cell_type": "markdown",
            "metadata": {
                "collapsed": true
            },
            "source": "# Capstone Project "
        },
        {
            "cell_type": "markdown",
            "metadata": {},
            "source": "## Data"
        },
        {
            "cell_type": "markdown",
            "metadata": {},
            "source": "The main data for this project will be taken from the official government website <data.calgary.ca>. Below are some links to the data that I am going to use in this project:\n1. [Community Boundaries](https://data.calgary.ca/Base-Maps/Community-Boundaries/ab7m-fwn6#Export)\n2. [Census by Community in 2018](https://data.calgary.ca/api/views/cc4n-ndvs/rows.csv?accessType=DOWNLOAD)\n3. [Community Crime and Disorder Statistics](https://data.calgary.ca/api/views/848s-4m4z/rows.csv?accessType=DOWNLOAD)\n4. [School Locations](https://data.calgary.ca/api/views/fd9t-tdn2/rows.csv?accessType=DOWNLOAD)\n5. [Calgary School Ranking](https://www.fraserinstitute.org/)\n6. [Child Care Services 1](http://www.humanservices.alberta.ca/oldfusion/ChildCareLookup.cfm?s=search&sfid=&sinspd=&sinspc=&show=&ProgramName=&City=&PostalCode=&TypeDayCares=true&TypeFamilyDayHomes=true&TypeOutOfSchoolCare=true&TypeGroupFamilyChildCare=true&TypeEarlyChildhoodDevelopmentProgram=true&AgeInfants=true&AgePreSchool=true&buttonSubmit=3921)\n7. [Child Care Services 2](https://www.canadachildcaredirectory.com/AB_Calgary.htm)\n8. [Community Services](https://data.calgary.ca/api/views/x34e-bcjz/rows.csv?accessType=DOWNLOAD)\n9. [Calgary Transit Stops](https://data.calgary.ca/api/views/muzh-c9qc/rows.csv?accessType=DOWNLOAD)\n10. [Calgary Transit Routes](https://data.calgary.ca/api/views/hpnd-riq4/rows.csv?accessType=DOWNLOAD)\n\nI am going to use Community Boundaries data to draw them on the Calgary map. \n\nCensus by Community in 2018 data will be used to obtain the population and the location of the center of each neighborhood. I will create the choropleth map for population and point each neighborhood center on the Calgary map. \n\nI also want to observe the correlation between the population and crime levels in Calgary communities, therefore I will use the Community Crime and Disorder Statistics data to obtain the number of crime incidents in each neighbrhood. Based on this information I want to filter out communities with least crime incidents number.\n\nNext step is to identify the location of the schools and draw them on the map. For this purpose, I am going to use School Locations data. At the same time, I want to find schools with the best ranking, therefore I will use data from <https://www.fraserinstitute.org/>. Unfortunately, there is no ranking data readily availbale for Calgary schools, so I will manually download statistics from the website and import it to the notebook. I will filter out best schools in Calgary with the Score 7 and higher and point their location on the map. \n\nTwo websites will be used to obtain data for child care services in Calgary. \n\nNext, I will identify the location of medical services in Calgary, such as Community Health Centers and Hospitals based on Community Services Data. \n\nThe same data will be used to find the location of all Calgary libraries and museums. \n\nNext, I will use Calgary Transit Stops and Routes to observe the public transportation availability in the city. \n\nAnd finally, I will use data from <http://foursquare.com/> to find the common venues in each neighborhood and do the same analysis as we did for New York and Toronto neighborhoods. In the end, I will filter out neighborhood communities with the most common venues suitable for families with kids. "
        },
        {
            "cell_type": "code",
            "execution_count": null,
            "metadata": {},
            "outputs": [],
            "source": ""
        }
    ],
    "metadata": {
        "kernelspec": {
            "display_name": "Python 3.6",
            "language": "python",
            "name": "python3"
        },
        "language_info": {
            "codemirror_mode": {
                "name": "ipython",
                "version": 3
            },
            "file_extension": ".py",
            "mimetype": "text/x-python",
            "name": "python",
            "nbconvert_exporter": "python",
            "pygments_lexer": "ipython3",
            "version": "3.6.9"
        }
    },
    "nbformat": 4,
    "nbformat_minor": 1
}