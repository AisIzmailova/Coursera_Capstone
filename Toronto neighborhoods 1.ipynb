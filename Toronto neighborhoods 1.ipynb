{
    "cells": [
        {
            "cell_type": "markdown",
            "metadata": {
                "collapsed": true
            },
            "source": "# Segmenting and Clustering neighborhoods in Toronto"
        },
        {
            "cell_type": "markdown",
            "metadata": {},
            "source": "## Part 1: Building dataframe"
        },
        {
            "cell_type": "markdown",
            "metadata": {},
            "source": "BeautifulSoup scraping package is used to transform the table from the Wikipedia page into the panda dataframe. First I installed BeautifulSoup and panda libraries."
        },
        {
            "cell_type": "code",
            "execution_count": 1,
            "metadata": {},
            "outputs": [],
            "source": "from bs4 import BeautifulSoup\nimport requests\nimport pandas as pd\nimport lxml\nimport html5lib"
        },
        {
            "cell_type": "markdown",
            "metadata": {},
            "source": "Next, I extracted all text information from the Wikipedia page and find the table with data."
        },
        {
            "cell_type": "code",
            "execution_count": 69,
            "metadata": {},
            "outputs": [],
            "source": "#loading the data from the Wikipedia webpage\nsource=requests.get('https://en.wikipedia.org/wiki/List_of_postal_codes_of_Canada:_M').text\nsoup=BeautifulSoup(source, 'lxml')\ntable=soup.find('table')\ntable_rows=table.find_all('tr')"
        },
        {
            "cell_type": "markdown",
            "metadata": {},
            "source": "Created dataframe, extracted infromation from the table and put it into dataframe. Added column names."
        },
        {
            "cell_type": "code",
            "execution_count": 70,
            "metadata": {},
            "outputs": [],
            "source": "df=[]\nfor tr in table_rows:\n    table_data=tr.find_all('td')\n    row=[i.text for i in table_data]\n    df.append(row)    \ndataframe=pd.DataFrame(df, columns=[\"PostCode\", \"Borough\", \"Neighborhood\"])"
        },
        {
            "cell_type": "markdown",
            "metadata": {},
            "source": "Dropped the first empty row and deleted '\\n' sign from each row."
        },
        {
            "cell_type": "code",
            "execution_count": 71,
            "metadata": {},
            "outputs": [],
            "source": "dataframe=dataframe.drop([0], axis=0)\ndataframe=dataframe.astype(str)\ndataframe['Neighborhood'] = dataframe['Neighborhood'].map(lambda x: x.rstrip('\\n'))"
        },
        {
            "cell_type": "markdown",
            "metadata": {},
            "source": "Dropped all rows with 'Not assigned' value in column Borough. "
        },
        {
            "cell_type": "code",
            "execution_count": 73,
            "metadata": {},
            "outputs": [],
            "source": "dataframe=dataframe.set_index(\"Borough\")\ndataframe=dataframe.drop(\"Not assigned\", axis=0)\ndataframe=dataframe.reset_index()"
        },
        {
            "cell_type": "markdown",
            "metadata": {},
            "source": "Grouped Neighborhods by PostCode, so that for each PostCode if there are multiple neighborhoods, they would be combined and separated by a comma."
        },
        {
            "cell_type": "code",
            "execution_count": 74,
            "metadata": {},
            "outputs": [],
            "source": "dataframe=dataframe.groupby([\"PostCode\", \"Borough\"])['Neighborhood'].apply(lambda tags: ','.join(tags))\ndataframe=dataframe.reset_index()\ndata=pd.DataFrame(dataframe)"
        },
        {
            "cell_type": "markdown",
            "metadata": {},
            "source": "Printed the number o"
        },
        {
            "cell_type": "code",
            "execution_count": null,
            "metadata": {},
            "outputs": [],
            "source": "print('The dimension of the dataframe:', data.shape)\ndata"
        }
    ],
    "metadata": {
        "kernelspec": {
            "display_name": "Python 3.6",
            "language": "python",
            "name": "python3"
        },
        "language_info": {
            "codemirror_mode": {
                "name": "ipython",
                "version": 3
            },
            "file_extension": ".py",
            "mimetype": "text/x-python",
            "name": "python",
            "nbconvert_exporter": "python",
            "pygments_lexer": "ipython3",
            "version": "3.6.9"
        }
    },
    "nbformat": 4,
    "nbformat_minor": 1
}